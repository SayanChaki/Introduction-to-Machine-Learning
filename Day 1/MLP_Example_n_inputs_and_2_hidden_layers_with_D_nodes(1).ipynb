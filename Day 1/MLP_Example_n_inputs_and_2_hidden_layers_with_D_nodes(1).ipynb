{
  "nbformat": 4,
  "nbformat_minor": 0,
  "metadata": {
    "colab": {
      "provenance": []
    },
    "kernelspec": {
      "name": "python3",
      "display_name": "Python 3"
    },
    "language_info": {
      "name": "python"
    }
  },
  "cells": [
    {
      "cell_type": "code",
      "execution_count": null,
      "metadata": {
        "id": "y8fJoXprr5W-"
      },
      "outputs": [],
      "source": [
        "import numpy as np"
      ]
    },
    {
      "cell_type": "code",
      "source": [
        "class MLP:\n",
        "    def __init__(self, n_inputs, d_hidden):\n",
        "\n",
        "        # Random weight initialization for each layer\n",
        "        # Uses Xavier/Glorot initialization for better initial weight scaling\n",
        "        self.W1 = np.random.randn(n_inputs, d_hidden) * np.sqrt(2.0 / (n_inputs + d_hidden))\n",
        "        self.W2 = np.random.randn(d_hidden, d_hidden) * np.sqrt(2.0 / (d_hidden + d_hidden))\n",
        "        self.W3 = np.random.randn(d_hidden, 1) * np.sqrt(2.0 / (d_hidden + 1))\n",
        "\n",
        "    def sigmoid(self, x):\n",
        "\n",
        "        return 1 / (1 + np.exp(-x))\n",
        "\n",
        "    def forward(self, X):\n",
        "\n",
        "        # First hidden layer\n",
        "        self.z1 = np.dot(X, self.W1)\n",
        "        self.a1 = self.sigmoid(self.z1)\n",
        "\n",
        "        # Second hidden layer\n",
        "        self.z2 = np.dot(self.a1, self.W2)\n",
        "        self.a2 = self.sigmoid(self.z2)\n",
        "\n",
        "        # Output layer\n",
        "        self.z3 = np.dot(self.a2, self.W3)\n",
        "        self.output = self.sigmoid(self.z3)\n",
        "\n",
        "        return self.output\n"
      ],
      "metadata": {
        "id": "8AKii00UsH5K"
      },
      "execution_count": null,
      "outputs": []
    },
    {
      "cell_type": "code",
      "source": [
        "\n",
        "\n",
        "# Example usage\n",
        "def example_usage():\n",
        "    # Set random seed for reproducibility\n",
        "    np.random.seed(42)\n",
        "\n",
        "    # Create an instance of the MLP\n",
        "    # 10 input features, 64 nodes in hidden layers\n",
        "    model = MLP(n_inputs=10, d_hidden=64)\n",
        "\n",
        "    X = np.random.randn(1, 10)\n",
        "    y = np.random.randint(2, size=(100, 1)) / 1.0  # Binary labels\n",
        "    predictions = model.forward(X)\n",
        "    print(predictions)\n",
        "\n",
        "if __name__ == \"__main__\":\n",
        "    example_usage()"
      ],
      "metadata": {
        "colab": {
          "base_uri": "https://localhost:8080/"
        },
        "id": "et4Vwk31sJeJ",
        "outputId": "013f0373-210e-40ca-841a-c5e497b692e1"
      },
      "execution_count": null,
      "outputs": [
        {
          "output_type": "stream",
          "name": "stdout",
          "text": [
            "[[0.23623634]]\n"
          ]
        }
      ]
    },
    {
      "cell_type": "code",
      "source": [],
      "metadata": {
        "id": "nAnDCI-wsoSi"
      },
      "execution_count": null,
      "outputs": []
    }
  ]
}