{
  "nbformat": 4,
  "nbformat_minor": 0,
  "metadata": {
    "colab": {
      "provenance": []
    },
    "kernelspec": {
      "name": "python3",
      "display_name": "Python 3"
    },
    "language_info": {
      "name": "python"
    }
  },
  "cells": [
    {
      "cell_type": "code",
      "execution_count": 1,
      "metadata": {
        "colab": {
          "base_uri": "https://localhost:8080/",
          "height": 332
        },
        "id": "KXN26tewz6C5",
        "outputId": "4bbbe47c-d50c-47cd-8269-608846f9a469"
      },
      "outputs": [
        {
          "output_type": "error",
          "ename": "NameError",
          "evalue": "name 'optimal_k' is not defined",
          "traceback": [
            "\u001b[0;31m---------------------------------------------------------------------------\u001b[0m",
            "\u001b[0;31mNameError\u001b[0m                                 Traceback (most recent call last)",
            "\u001b[0;32m<ipython-input-1-9b852f9b1bef>\u001b[0m in \u001b[0;36m<cell line: 0>\u001b[0;34m()\u001b[0m\n\u001b[1;32m     47\u001b[0m     \u001b[0;31m# Initialize and run clustering\u001b[0m\u001b[0;34m\u001b[0m\u001b[0;34m\u001b[0m\u001b[0m\n\u001b[1;32m     48\u001b[0m     \u001b[0mclusterer\u001b[0m \u001b[0;34m=\u001b[0m \u001b[0mKMeansClusterer\u001b[0m\u001b[0;34m(\u001b[0m\u001b[0mmax_k\u001b[0m\u001b[0;34m=\u001b[0m\u001b[0;36m10\u001b[0m\u001b[0;34m)\u001b[0m\u001b[0;34m\u001b[0m\u001b[0;34m\u001b[0m\u001b[0m\n\u001b[0;32m---> 49\u001b[0;31m     \u001b[0moptimal_k\u001b[0m \u001b[0;34m=\u001b[0m \u001b[0mclusterer\u001b[0m\u001b[0;34m.\u001b[0m\u001b[0mfit_elbow\u001b[0m\u001b[0;34m(\u001b[0m\u001b[0mX_scaled\u001b[0m\u001b[0;34m)\u001b[0m\u001b[0;34m\u001b[0m\u001b[0;34m\u001b[0m\u001b[0m\n\u001b[0m\u001b[1;32m     50\u001b[0m \u001b[0;34m\u001b[0m\u001b[0m\n\u001b[1;32m     51\u001b[0m     \u001b[0;31m# Fit with optimal K and visualize clusters\u001b[0m\u001b[0;34m\u001b[0m\u001b[0;34m\u001b[0m\u001b[0m\n",
            "\u001b[0;32m<ipython-input-1-9b852f9b1bef>\u001b[0m in \u001b[0;36mfit_elbow\u001b[0;34m(self, X)\u001b[0m\n\u001b[1;32m     31\u001b[0m         \"\"\"\n\u001b[1;32m     32\u001b[0m         \u001b[0;31m# Placeholder: Students must replace this\u001b[0m\u001b[0;34m\u001b[0m\u001b[0;34m\u001b[0m\u001b[0m\n\u001b[0;32m---> 33\u001b[0;31m         \u001b[0;32mreturn\u001b[0m \u001b[0moptimal_k\u001b[0m\u001b[0;34m\u001b[0m\u001b[0;34m\u001b[0m\u001b[0m\n\u001b[0m\u001b[1;32m     34\u001b[0m \u001b[0;34m\u001b[0m\u001b[0m\n\u001b[1;32m     35\u001b[0m     \u001b[0;32mdef\u001b[0m \u001b[0mfit_and_predict\u001b[0m\u001b[0;34m(\u001b[0m\u001b[0mself\u001b[0m\u001b[0;34m,\u001b[0m \u001b[0mX\u001b[0m\u001b[0;34m,\u001b[0m \u001b[0mk_optimal\u001b[0m\u001b[0;34m)\u001b[0m\u001b[0;34m:\u001b[0m\u001b[0;34m\u001b[0m\u001b[0;34m\u001b[0m\u001b[0m\n",
            "\u001b[0;31mNameError\u001b[0m: name 'optimal_k' is not defined"
          ]
        }
      ],
      "source": [
        "import numpy as np\n",
        "from sklearn.cluster import KMeans\n",
        "from sklearn.preprocessing import StandardScaler\n",
        "import matplotlib.pyplot as plt\n",
        "\n",
        "# Generate synthetic customer dataset (age, spending)\n",
        "def generate_customer_data(n_samples=300):\n",
        "    np.random.seed(42)\n",
        "    # Cluster 1: Young, high spenders\n",
        "    c1 = np.random.multivariate_normal([25, 80], [[5, 10], [10, 100]], n_samples // 3)\n",
        "    # Cluster 2: Middle-aged, moderate spenders\n",
        "    c2 = np.random.multivariate_normal([40, 50], [[8, 5], [5, 50]], n_samples // 3)\n",
        "    # Cluster 3: Older, low spenders\n",
        "    c3 = np.random.multivariate_normal([60, 20], [[5, 5], [5, 30]], n_samples // 3)\n",
        "    X = np.vstack([c1, c2, c3])\n",
        "    return X\n",
        "\n",
        "class KMeansClusterer:\n",
        "    def __init__(self, max_k=10):\n",
        "        self.max_k = max_k\n",
        "        self.random_state = 42\n",
        "        self.inertias = []\n",
        "\n",
        "    def fit_elbow(self, X):\n",
        "        \"\"\"\n",
        "        TODO: Complete this method to:\n",
        "        - Fit K-Means for K=1 to self.max_k\n",
        "        - Compute inertia (sum of squared distances to centroids) for each K\n",
        "        - Plot the elbow curve (K vs. inertia)\n",
        "        - Return the optimal K (e.g., based on visual inspection or heuristic)\n",
        "        \"\"\"\n",
        "        # Placeholder: Students must replace this\n",
        "        return optimal_k\n",
        "\n",
        "    def fit_and_predict(self, X, k_optimal):\n",
        "        kmeans = KMeans(n_clusters=k_optimal, random_state=self.random_state, n_init=10)\n",
        "        kmeans.fit(X)\n",
        "        return kmeans.labels_\n",
        "\n",
        "# Main script to run the clustering\n",
        "if __name__ == \"__main__\":\n",
        "    # Generate and preprocess data\n",
        "    X = generate_customer_data()\n",
        "    scaler = StandardScaler()\n",
        "    X_scaled = scaler.fit_transform(X)\n",
        "\n",
        "    # Initialize and run clustering\n",
        "    clusterer = KMeansClusterer(max_k=10)\n",
        "    optimal_k = clusterer.fit_elbow(X_scaled)\n",
        "\n",
        "    # Fit with optimal K and visualize clusters\n",
        "    if optimal_k:\n",
        "        labels = clusterer.fit_and_predict(X_scaled, optimal_k)\n",
        "        X_unscaled = scaler.inverse_transform(X_scaled)  # For visualization\n",
        "        plt.scatter(X_unscaled[:, 0], X_unscaled[:, 1], c=labels, cmap='viridis')\n",
        "        plt.xlabel('Age')\n",
        "        plt.ylabel('Annual Spending ($K)')\n",
        "        plt.title(f'K-Means Clustering with K={optimal_k}')\n",
        "        plt.show()\n",
        "    else:\n",
        "        print(\"Elbow method failed to determine optimal K.\")"
      ]
    },
    {
      "cell_type": "code",
      "source": [],
      "metadata": {
        "id": "-oNcZ7dV0Nqi"
      },
      "execution_count": null,
      "outputs": []
    }
  ]
}