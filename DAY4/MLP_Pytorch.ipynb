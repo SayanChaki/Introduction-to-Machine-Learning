{
  "nbformat": 4,
  "nbformat_minor": 0,
  "metadata": {
    "colab": {
      "provenance": []
    },
    "kernelspec": {
      "name": "python3",
      "display_name": "Python 3"
    },
    "language_info": {
      "name": "python"
    }
  },
  "cells": [
    {
      "cell_type": "code",
      "execution_count": null,
      "metadata": {
        "id": "Quyk0CPi6Xie"
      },
      "outputs": [],
      "source": [
        "import torch\n",
        "import torch.nn as nn\n",
        "import torch.nn.functional as F\n",
        "\n",
        "class SimpleNetwork(nn.Module):\n",
        "    def __init__(self, input_size, hidden_size, output_size):\n",
        "        super(SimpleNetwork, self).__init__()\n",
        "        # Define layers\n",
        "        self.fc1 = nn.Linear(input_size, hidden_size)\n",
        "        self.fc2 = nn.Linear(hidden_size, output_size)\n",
        "\n",
        "    def forward(self, x):\n",
        "        # Define forward pass\n",
        "        x = F.relu(self.fc1(x))\n",
        "        x = self.fc2(x)\n",
        "        return x\n",
        "\n",
        "# Training function\n",
        "def train_network(model, train_data, train_labels, epochs=100, learning_rate=0.01):\n",
        "    # Define loss function (Mean Squared Error for regression)\n",
        "    criterion = nn.MSELoss()\n",
        "\n",
        "    # Define optimizer (Stochastic Gradient Descent)\n",
        "    optimizer = torch.optim.SGD(model.parameters(), lr=learning_rate)\n",
        "\n",
        "    # Training loop\n",
        "    for epoch in range(epochs):\n",
        "        # Forward pass\n",
        "        outputs = model(train_data)\n",
        "        loss = criterion(outputs, train_labels)\n",
        "\n",
        "        # Backward pass and optimization\n",
        "        optimizer.zero_grad()  # Clear previous gradients\n",
        "        loss.backward()        # Compute gradients\n",
        "        optimizer.step()       # Update weights\n",
        "\n",
        "        # Print progress every 10 epochs\n",
        "        if (epoch + 1) % 10 == 0:\n",
        "            print(f'Epoch [{epoch+1}/{epochs}], Loss: {loss.item():.4f}')\n",
        "\n",
        "    return model\n",
        "\n",
        "# Example usage:\n",
        "if __name__ == \"__main__\":\n",
        "    # Example parameters\n",
        "    input_size = 10\n",
        "    hidden_size = 20\n",
        "    output_size = 1\n",
        "\n",
        "    # Create sample data\n",
        "    batch_size = 32\n",
        "    train_data = torch.randn(batch_size, input_size)\n",
        "    train_labels = torch.randn(batch_size, output_size)\n",
        "\n",
        "    # Initialize model\n",
        "    model = SimpleNetwork(input_size, hidden_size, output_size)\n",
        "\n",
        "    # Train the model\n",
        "    trained_model = train_network(model, train_data, train_labels, epochs=100, learning_rate=0.01)"
      ]
    }
  ]
}