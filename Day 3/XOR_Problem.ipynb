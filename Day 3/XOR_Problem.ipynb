{
  "nbformat": 4,
  "nbformat_minor": 0,
  "metadata": {
    "colab": {
      "provenance": []
    },
    "kernelspec": {
      "name": "python3",
      "display_name": "Python 3"
    },
    "language_info": {
      "name": "python"
    }
  },
  "cells": [
    {
      "cell_type": "markdown",
      "source": [
        "# With Pytorch"
      ],
      "metadata": {
        "id": "kRsHhwTrPLdv"
      }
    },
    {
      "cell_type": "code",
      "source": [
        "import numpy as np\n",
        "\n",
        "# Sigmoid activation function and its derivative\n",
        "def sigmoid(x):\n",
        "    return 1 / (1 + np.exp(-x))\n",
        "\n",
        "def sigmoid_derivative(x):\n",
        "    return x * (1 - x)  # Derivative of sigmoid(x) when x = sigmoid(z)\n",
        "\n",
        "# XOR dataset: 4 samples with 2 features\n",
        "X = np.array([[0, 0],\n",
        "              [0, 1],\n",
        "              [1, 0],\n",
        "              [1, 1]])\n",
        "\n",
        "# XOR labels\n",
        "y = np.array([[0],\n",
        "              [1],\n",
        "              [1],\n",
        "              [0]])\n",
        "\n",
        "# Seed for reproducibility\n",
        "np.random.seed(42)\n",
        "\n",
        "# Initialize weights randomly with small values\n",
        "input_size = 2      # 2 input neurons (x1, x2)\n",
        "hidden_size = 3     # 3 hidden neurons\n",
        "output_size = 1     # 1 output neuron\n",
        "\n",
        "# Weights and biases\n",
        "W1 = np.random.randn(input_size, hidden_size) * 0.1  # (2x3) weight matrix for hidden layer\n",
        "b1 = np.zeros((1, hidden_size))                      # (1x3) bias vector for hidden layer\n",
        "\n",
        "W2 = np.random.randn(hidden_size, output_size) * 0.1 # (3x1) weight matrix for output layer\n",
        "b2 = np.zeros((1, output_size))                      # (1x1) bias for output layer\n",
        "\n",
        "# Learning rate\n",
        "lr = 0.5\n",
        "epochs = 10000\n",
        "\n",
        "# Training loop\n",
        "for epoch in range(epochs):\n",
        "    # ----- Forward Pass -----\n",
        "    # Hidden layer\n",
        "    Z1 = np.dot(X, W1) + b1    # Linear transformation: Z1 = XW1 + b1\n",
        "    H = sigmoid(Z1)            # Activation function: H = σ(Z1)\n",
        "\n",
        "    # Output layer\n",
        "    Z2 = np.dot(H, W2) + b2    # Linear transformation: Z2 = HW2 + b2\n",
        "    Y_pred = sigmoid(Z2)       # Activation function: Y_pred = σ(Z2)\n",
        "\n",
        "    # ----- Compute Error -----\n",
        "    error = 0.5 * (y - Y_pred) ** 2  # Squared error loss\n",
        "    loss = np.sum(error) / X.shape[0]  # Average loss\n",
        "\n",
        "    # ----- Backpropagation -----\n",
        "    # Output layer gradients\n",
        "    dE_dYpred = Y_pred - y               # dE/dŷ = (ŷ - y)\n",
        "    dYpred_dZ2 = sigmoid_derivative(Y_pred)  # dŷ/dZ2 = sigmoid'(Z2)\n",
        "\n",
        "    dZ2_dW2 = H  # dZ2/dW2 = H\n",
        "    delta2 = dE_dYpred * dYpred_dZ2  # δ2 = (ŷ - y) * sigmoid'(Z2)\n",
        "\n",
        "    # Gradient w.r.t. output layer weights\n",
        "    dE_dW2 = np.dot(H.T, delta2)  # dE/dW2 = H^T * δ2\n",
        "    dE_db2 = np.sum(delta2, axis=0, keepdims=True)  # dE/db2 = sum(δ2)\n",
        "\n",
        "    # Hidden layer gradients\n",
        "    dZ2_dH = W2.T  # dZ2/dH = W2^T\n",
        "    delta1 = np.dot(delta2, dZ2_dH) * sigmoid_derivative(H)  # δ1 = (δ2 * W2^T) * sigmoid'(Z1)\n",
        "\n",
        "    # Gradient w.r.t. hidden layer weights\n",
        "    dE_dW1 = np.dot(X.T, delta1)  # dE/dW1 = X^T * δ1\n",
        "    dE_db1 = np.sum(delta1, axis=0, keepdims=True)  # dE/db1 = sum(δ1)\n",
        "\n",
        "    # ----- Gradient Descent Weight Updates -----\n",
        "    W2 -= lr * dE_dW2  # W2 = W2 - η * dE/dW2\n",
        "    b2 -= lr * dE_db2  # b2 = b2 - η * dE/db2\n",
        "\n",
        "    W1 -= lr * dE_dW1  # W1 = W1 - η * dE/dW1\n",
        "    b1 -= lr * dE_db1  # b1 = b1 - η * dE/db1\n",
        "\n",
        "    # Print loss every 1000 epochs\n",
        "    if epoch % 1000 == 0:\n",
        "        print(f\"Epoch {epoch}: Loss = {loss:.6f}\")\n",
        "\n",
        "# ----- Testing the trained MLP -----\n",
        "print(\"\\nFinal predictions after training:\")\n",
        "for i in range(len(X)):\n",
        "    z1 = np.dot(X[i], W1) + b1\n",
        "    h = sigmoid(z1)\n",
        "    z2 = np.dot(h, W2) + b2\n",
        "    y_pred = sigmoid(z2)\n",
        "    print(f\"Input: {X[i]}, Predicted: {y_pred[0][0]:.4f}, Actual: {y[i][0]}\")\n"
      ],
      "metadata": {
        "colab": {
          "base_uri": "https://localhost:8080/"
        },
        "id": "7SQCsSHzICnC",
        "outputId": "494c828c-43b0-489e-8753-01d848668328"
      },
      "execution_count": 6,
      "outputs": [
        {
          "output_type": "stream",
          "name": "stdout",
          "text": [
            "Epoch 0: Loss = 0.125295\n",
            "Epoch 1000: Loss = 0.125000\n",
            "Epoch 2000: Loss = 0.124999\n",
            "Epoch 3000: Loss = 0.124997\n",
            "Epoch 4000: Loss = 0.124984\n",
            "Epoch 5000: Loss = 0.118427\n",
            "Epoch 6000: Loss = 0.003653\n",
            "Epoch 7000: Loss = 0.001049\n",
            "Epoch 8000: Loss = 0.000583\n",
            "Epoch 9000: Loss = 0.000397\n",
            "\n",
            "Final predictions after training:\n",
            "Input: [0 0], Predicted: 0.0282, Actual: 0\n",
            "Input: [0 1], Predicted: 0.9769, Actual: 1\n",
            "Input: [1 0], Predicted: 0.9769, Actual: 1\n",
            "Input: [1 1], Predicted: 0.0231, Actual: 0\n"
          ]
        }
      ]
    },
    {
      "cell_type": "code",
      "source": [],
      "metadata": {
        "id": "AhkxNWz0JrKn"
      },
      "execution_count": null,
      "outputs": []
    }
  ]
}
