{
  "nbformat": 4,
  "nbformat_minor": 0,
  "metadata": {
    "colab": {
      "provenance": []
    },
    "kernelspec": {
      "name": "python3",
      "display_name": "Python 3"
    },
    "language_info": {
      "name": "python"
    }
  },
  "cells": [
    {
      "cell_type": "code",
      "execution_count": null,
      "metadata": {
        "id": "-wOvz_4y34Sj"
      },
      "outputs": [],
      "source": [
        "import numpy as np\n",
        "\n",
        "def sigmoid(x):\n",
        "    \"\"\"Sigmoid activation function\"\"\"\n",
        "    return 1 / (1 + np.exp(-x))\n",
        "\n"
      ]
    },
    {
      "cell_type": "code",
      "source": [
        "def initialize_parameters(input_size=4, hidden_size=3, output_size=1):\n",
        "    \"\"\"Initialize weights and biases for the network\"\"\"\n",
        "    # Initialize with random values\n",
        "    np.random.seed(42)  # for reproducibility\n",
        "\n",
        "    # Weights and biases for hidden layer: input_size=4 to hidden_size=3\n",
        "    W1 = np.random.randn(input_size, hidden_size) * 0.01  # Shape: (4, 3)\n",
        "    b1 = np.zeros((1, hidden_size))  # Shape: (1, 3)\n",
        "\n",
        "    # Weights and biases for output layer: hidden_size=3 to output_size=1\n",
        "    W2 = np.random.randn(hidden_size, output_size) * 0.01  # Shape: (3, 1)\n",
        "    b2 = np.zeros((1, output_size))  # Shape: (1, 1)\n",
        "\n",
        "    return W1, b1, W2, b2\n"
      ],
      "metadata": {
        "id": "gNri5G-23-g0"
      },
      "execution_count": null,
      "outputs": []
    },
    {
      "cell_type": "code",
      "source": [
        "\n",
        "def hidden_layer(X, W1, b1):\n",
        "    \"\"\"\n",
        "    Calculate the values of hidden neurons\n",
        "\n",
        "    Args:\n",
        "        X: Input data of shape (n_samples, 4)\n",
        "        W1: Weight matrix of shape (4, 3)\n",
        "        b1: Bias vector of shape (1, 3)\n",
        "\n",
        "    Returns:\n",
        "        hidden_output: Output from hidden layer after sigmoid activation\n",
        "    \"\"\"\n",
        "    # Calculate linear combination\n",
        "    Z1 = np.dot(X, W1) + b1\n",
        "\n",
        "    # Apply sigmoid activation\n",
        "    hidden_output = sigmoid(Z1)\n",
        "\n",
        "    return hidden_output\n",
        "\n"
      ],
      "metadata": {
        "id": "IkMA1_ty4AYR"
      },
      "execution_count": null,
      "outputs": []
    },
    {
      "cell_type": "code",
      "source": [
        "def predict(hidden_output, W2, b2):\n",
        "    \"\"\"\n",
        "    Calculate the final output of the MLP\n",
        "\n",
        "    Args:\n",
        "        hidden_output: Output from hidden layer of shape (n_samples, 3)\n",
        "        W2: Weight matrix of shape (3, 1)\n",
        "        b2: Bias vector of shape (1, 1)\n",
        "\n",
        "    Returns:\n",
        "        final_output: The prediction from the MLP\n",
        "    \"\"\"\n",
        "    # Calculate linear combination\n",
        "    Z2 = np.dot(hidden_output, W2) + b2\n",
        "\n",
        "    # Apply sigmoid activation\n",
        "    final_output = sigmoid(Z2)\n",
        "\n",
        "    return final_output\n"
      ],
      "metadata": {
        "id": "da1VnQMX4BJQ"
      },
      "execution_count": null,
      "outputs": []
    },
    {
      "cell_type": "code",
      "source": [
        "\n",
        "def forward_pass(X, W1, b1, W2, b2):\n",
        "    \"\"\"\n",
        "    Perform a full forward pass through the network\n",
        "\n",
        "    Args:\n",
        "        X: Input data of shape (n_samples, 4)\n",
        "        W1, b1, W2, b2: Network parameters\n",
        "\n",
        "    Returns:\n",
        "        hidden_output: Output from hidden layer\n",
        "        final_output: The prediction from the MLP\n",
        "    \"\"\"\n",
        "    hidden_output = hidden_layer(X, W1, b1)\n",
        "    final_output = predict(hidden_output, W2, b2)\n",
        "\n",
        "    return hidden_output, final_output\n",
        "\n"
      ],
      "metadata": {
        "id": "EIngGj_b4FNo"
      },
      "execution_count": null,
      "outputs": []
    },
    {
      "cell_type": "code",
      "source": [
        "# Example usage\n",
        "if __name__ == \"__main__\":\n",
        "    # Initialize parameters\n",
        "    W1, b1, W2, b2 = initialize_parameters()\n",
        "\n",
        "    # Create a sample input (one sample with 4 features)\n",
        "    X = np.array([[0.5, 0.1, 0.2, 0.9]])\n",
        "\n",
        "    # Get hidden layer output\n",
        "    h_output = hidden_layer(X, W1, b1)\n",
        "    print(\"Hidden layer output:\", h_output)\n",
        "    print(\"Hidden layer shape:\", h_output.shape)  # Should be (1, 3)\n",
        "\n",
        "    # Get prediction\n",
        "    y_pred = predict(h_output, W2, b2)\n",
        "    print(\"Prediction:\", y_pred)\n",
        "    print(\"Prediction shape:\", y_pred.shape)  # Should be (1, 1)\n",
        "\n",
        "    # Print weight shapes for verification\n",
        "    print(\"\\nWeight shapes:\")\n",
        "    print(\"W1 shape:\", W1.shape)  # Should be (4, 3)\n",
        "    print(\"W2 shape:\", W2.shape)  # Should be (3, 1)"
      ],
      "metadata": {
        "id": "yglHsInM4Gkb"
      },
      "execution_count": null,
      "outputs": []
    }
  ]
}